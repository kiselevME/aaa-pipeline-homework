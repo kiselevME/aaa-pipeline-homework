{
 "cells": [
  {
   "cell_type": "markdown",
   "id": "97067b1b-b81f-4a8d-930e-f98923ed2c98",
   "metadata": {},
   "source": [
    "# Home Work"
   ]
  },
  {
   "cell_type": "markdown",
   "id": "960c54bc-6d4d-4ab5-afa7-8b4b427f2830",
   "metadata": {},
   "source": [
    "В этой работе будем иследовать одну из популярнейших рекомендательных моделей - **Latent Factor Model** - https://arxiv.org/pdf/1912.04754. \n",
    "\n",
    "Перед выполнением задания нужно убедиться, что прогоняется бейзлайн. Для этого:\n",
    "1) Скачайте  файлы - **node2name.json** и **clickstream.parque** с необходимыми данными\n",
    "2) Положите в репозиторий ноутбука и запустите код\n",
    "\n",
    "В этой работе вам нужно:\n",
    "1) перебрать параметры модели - edim,batch_size, lr, epoch , num_negatives -   (по **1 балу - 5 балов**) \n",
    "2) Тип OPTIMIZER_NAME - (**4 бала за 5 оптимизаторов**)\n",
    "3) На основе имеющихся данных собрать лучшую модель (по **precision@30**) и рассчитать ее метрики (**4 бала**)\n",
    "4) Попробовать другие модели (например  als - https://benfred.github.io/implicit/ , gru4rec, sasrec  ) - за sasrec на хорошем уровне сразу **10 балов**. За другие модели по **3 бала**\n",
    "5) По окончанию работы в mlflow настроить графики для сравнения моделей. Можно проявить фантазию, но обязательно должно быть сравнение с бейзлайном (данный ноутбук) против других моделей\n",
    "6) В mlflow залогировать последнюю версию ноутбука - необходимое условия. Либо в github, но тогда прикрепить ссылку в [mlflow](http://84.201.128.89:90/) . Эксперимент в формате - **homework-\\<name\\>**\n",
    "7) Доп балы (**20 баллов**) тому у кого будет наибольший скор на тесте. Но ваш ноутбук должен прогонятся и быть вопроизводимым.\n",
    "\n",
    "Суммарно за работу **20 балов**"
   ]
  },
  {
   "cell_type": "code",
   "execution_count": 1,
   "id": "cdecfba9",
   "metadata": {},
   "outputs": [],
   "source": [
    "import os\n",
    "import random\n",
    "import torch\n",
    "import numpy as np"
   ]
  },
  {
   "cell_type": "code",
   "execution_count": 2,
   "id": "337fdd7d",
   "metadata": {},
   "outputs": [],
   "source": [
    "# задаем значение гениратора случайных чисел\n",
    "RANDOM_STATE = 1"
   ]
  },
  {
   "cell_type": "code",
   "execution_count": 3,
   "id": "5a3717d4",
   "metadata": {},
   "outputs": [],
   "source": [
    "def set_seed(seed: int):\n",
    "    np.random.seed(seed)\n",
    "    random.seed(seed)\n",
    "    torch.manual_seed(seed)\n",
    "    torch.cuda.manual_seed(seed)\n",
    "    # When running on the CuDNN backend, two further options must be set\n",
    "    torch.backends.cudnn.deterministic = True\n",
    "    torch.backends.cudnn.benchmark = False\n",
    "    # Set a fixed value for the hash seed\n",
    "    os.environ[\"PYTHONHASHSEED\"] = str(seed)\n",
    "    print(f\"Random seed set as {seed}\")"
   ]
  },
  {
   "cell_type": "markdown",
   "id": "e35a8bc2",
   "metadata": {},
   "source": [
    "## Загружаем данные"
   ]
  },
  {
   "cell_type": "code",
   "execution_count": 4,
   "id": "a4ab3a6e-5593-49ee-bca6-12d224fd68a7",
   "metadata": {},
   "outputs": [],
   "source": [
    "import json\n",
    "\n",
    "with open('data/node2name.json', 'r') as f:\n",
    "    node2name = json.load(f)\n",
    "\n",
    "node2name = {int(k):v for k,v in node2name.items()}"
   ]
  },
  {
   "cell_type": "code",
   "execution_count": 5,
   "id": "46f26a69-7a82-42d5-8a46-309178194a14",
   "metadata": {},
   "outputs": [],
   "source": [
    "import pandas as pd\n",
    "\n",
    "df = pd.read_parquet('data/clickstream.parque')\n",
    "df = df.head(100_000)"
   ]
  },
  {
   "cell_type": "code",
   "execution_count": 6,
   "id": "4b9b6966-efcb-402e-b96d-c2a25b26c451",
   "metadata": {},
   "outputs": [],
   "source": [
    "df['is_train'] = df['event_date']< df['event_date'].max() - pd.Timedelta('2 day')\n",
    "df['names'] = df['node_id'].map(node2name)"
   ]
  },
  {
   "cell_type": "code",
   "execution_count": 7,
   "id": "88a64aab-a44e-400f-93e7-ef0fb2646b9d",
   "metadata": {},
   "outputs": [],
   "source": [
    "train_cooks = df[df['is_train']]['cookie_id'].unique()\n",
    "train_items = df[df['is_train']]['node_id'].unique()\n",
    "\n",
    "\n",
    "df = df[(df['cookie_id'].isin(train_cooks)) & (df['node_id'].isin(train_items))]"
   ]
  },
  {
   "cell_type": "code",
   "execution_count": 8,
   "id": "aaa39801-c8df-4e34-b296-e87d0e4f7ef5",
   "metadata": {},
   "outputs": [],
   "source": [
    "user_indes, index2user_id = pd.factorize(df['cookie_id'])\n",
    "df['user_index'] = user_indes\n",
    "\n",
    "node_indes, index2node = pd.factorize(df['node_id'])\n",
    "df['node_index'] = node_indes"
   ]
  },
  {
   "cell_type": "code",
   "execution_count": 9,
   "id": "04782b66-dd86-49cb-89e9-4ded7a4eee82",
   "metadata": {},
   "outputs": [
    {
     "data": {
      "text/plain": [
       "2175"
      ]
     },
     "execution_count": 9,
     "metadata": {},
     "output_type": "execute_result"
    }
   ],
   "source": [
    "df['node_index'].max()"
   ]
  },
  {
   "cell_type": "code",
   "execution_count": 10,
   "id": "63b61d95-a8bd-42a9-bf00-b21b543ea5a7",
   "metadata": {},
   "outputs": [
    {
     "data": {
      "text/plain": [
       "((96611, 7), (3333, 7))"
      ]
     },
     "execution_count": 10,
     "metadata": {},
     "output_type": "execute_result"
    }
   ],
   "source": [
    "df_train, df_test = df[df['is_train']], df[~df['is_train']]\n",
    "df_train = df_train.reset_index(drop=True)\n",
    "df_test = df_test.reset_index(drop=True)\n",
    "\n",
    "\n",
    "df_train.shape, df_test.shape"
   ]
  },
  {
   "cell_type": "markdown",
   "id": "3fef450e",
   "metadata": {},
   "source": [
    "# Определяем модель"
   ]
  },
  {
   "cell_type": "code",
   "execution_count": 11,
   "id": "13349dd1-0e15-4879-bb1c-204c425984be",
   "metadata": {
    "scrolled": true
   },
   "outputs": [],
   "source": [
    "import torch\n",
    "from torch import nn\n",
    "import random \n",
    "from tqdm.auto import tqdm\n",
    "\n",
    "from torch.utils.data import Dataset, DataLoader\n",
    "\n",
    "\n",
    "class RecDataset(Dataset):\n",
    "    def __init__(self, users, items, item_per_users):\n",
    "        self.users = users\n",
    "        self.items = items\n",
    "        self.item_per_users=item_per_users\n",
    "\n",
    "    def __len__(self):\n",
    "        return len(self.users)\n",
    "\n",
    "    def __getitem__(self, i):\n",
    "        user = self.users[i]\n",
    "        return torch.tensor(user), torch.tensor(self.items[i]), self.item_per_users[user]\n",
    "\n",
    "\n",
    "class LatentFactorModel(nn.Module):\n",
    "    def __init__(self, edim, user_indexes, node_indexes):\n",
    "        super(LatentFactorModel, self).__init__()\n",
    "        self.edim = edim\n",
    "        self.users = nn.Embedding(max(user_indexes) + 1, edim)\n",
    "        self.items = nn.Embedding(max(node_indexes) + 1, edim)\n",
    "\n",
    "    def forward(self, users, items):\n",
    "        user_embedings = self.users(users).reshape(-1, self.edim )\n",
    "        item_embedings = self.items(items)\n",
    "        res = torch.einsum('be,bne->bn', user_embedings, item_embedings)\n",
    "        return res \n",
    "\n",
    "    def pred_top_k(self, users, K=10):\n",
    "        user_embedings = self.users(users).reshape(-1, self.edim )\n",
    "        item_embedings = self.items.weight\n",
    "        res = torch.einsum('ue,ie->ui', user_embedings, item_embedings)\n",
    "        return torch.topk(res, K, dim=1)\n",
    "\n",
    "    \n",
    "\n",
    "\n",
    "def collate_fn(batch, num_negatives, num_items):\n",
    "    users, target_items, users_negatives = [],[], []\n",
    "    for triplets in batch:\n",
    "        user, target_item, seen_item = triplets\n",
    "        \n",
    "        users.append(user)\n",
    "        target_items.append(target_item)\n",
    "        user_negatives = []\n",
    "        \n",
    "        while len(user_negatives)< num_negatives:\n",
    "            candidate = random.randint(0, num_items)\n",
    "            if candidate not in seen_item:\n",
    "                user_negatives.append(candidate)\n",
    "                \n",
    "        users_negatives.append(user_negatives)\n",
    "                \n",
    "    \n",
    "    positive = torch.ones(len(batch), 1)       \n",
    "    negatives = torch.zeros(len(batch), num_negatives)\n",
    "    labels = torch.hstack([positive, negatives])\n",
    "    # print(torch.tensor(target_items))\n",
    "    # print(users_negatives)\n",
    "    items = torch.hstack([torch.tensor(target_items).reshape(-1, 1), torch.tensor(users_negatives)])\n",
    "    return torch.hstack(users), items, labels"
   ]
  },
  {
   "cell_type": "code",
   "execution_count": 12,
   "id": "14069993-68c8-424c-953f-54d19fcb71ef",
   "metadata": {},
   "outputs": [],
   "source": [
    "user2seen = df_train.groupby('user_index')['node_index'].agg(lambda x: list(set(x)))"
   ]
  },
  {
   "cell_type": "markdown",
   "id": "345f8cd2",
   "metadata": {},
   "source": [
    "# 1. Перебор параметров (с помощью оптуны)"
   ]
  },
  {
   "cell_type": "code",
   "execution_count": 13,
   "id": "0c909399",
   "metadata": {},
   "outputs": [
    {
     "data": {
      "text/plain": [
       "<Experiment: artifact_location='mlflow-artifacts:/18', creation_time=1716048375923, experiment_id='18', last_update_time=1716048375923, lifecycle_stage='active', name='homework-mekiselev', tags={}>"
      ]
     },
     "execution_count": 13,
     "metadata": {},
     "output_type": "execute_result"
    }
   ],
   "source": [
    "# заводим mlflow\n",
    "import mlflow\n",
    "\n",
    "mlflow.set_tracking_uri('http://84.201.128.89:90/')\n",
    "mlflow.set_experiment('homework-mekiselev')"
   ]
  },
  {
   "cell_type": "code",
   "execution_count": 14,
   "id": "3c71a9b9",
   "metadata": {},
   "outputs": [],
   "source": [
    "import optuna\n",
    "\n",
    "def calc_hitrate(df_preds, K):\n",
    "    return  df_preds[df_preds['rank']<K].groupby('user_index')['relevant'].max().mean()\n",
    "\n",
    "\n",
    "def calc_prec(df_preds, K):\n",
    "    return  (df_preds[df_preds['rank']<K].groupby('user_index')['relevant'].mean()).mean()\n",
    "\n",
    "\n",
    "def get_metrics(model: torch.nn.Module, K: int = 30):\n",
    "    test_users = df_test['user_index'].unique()\n",
    "\n",
    "    preds = model.pred_top_k(torch.tensor(test_users), K)[1].numpy()\n",
    "    df_preds = pd.DataFrame({'node_index': list(preds), 'user_index': test_users, 'rank': [[j for j in range(0, K)]for i in range(len(preds))]})\n",
    "\n",
    "    df_preds = df_preds.explode(['node_index', 'rank']).merge(\n",
    "        df_test[['user_index', 'node_index']].assign(relevant=1).drop_duplicates(),\n",
    "        on = ['user_index', 'node_index'],\n",
    "        how='left'\n",
    "    )\n",
    "    df_preds['relevant'] = df_preds['relevant'].fillna(0)\n",
    "\n",
    "    hitrate = calc_hitrate(df_preds, K)\n",
    "    prec = calc_prec(df_preds, K)\n",
    "    return hitrate, prec\n",
    "\n",
    "\n",
    "def objective(trial):\n",
    "    BATCH_SIZE = trial.suggest_int('BATCH_SIZE', 16, 100_000)\n",
    "    NUM_NEGATIVES = trial.suggest_int('NUM_NEGATIVES', 1, 20)\n",
    "    EDIM = trial.suggest_int('EDIM', 16, 512)\n",
    "    EPOCH = trial.suggest_int('EPOCH', 3, 20)\n",
    "    OPTIMIZER_NAME = 'Adam'\n",
    "    LR = trial.suggest_float('LR', 1e-3, 1e1, log=True)\n",
    "\n",
    "    train_dataset = RecDataset(df_train['user_index'].values, df_train['node_index'], user2seen)\n",
    "    dataloader = DataLoader(train_dataset, shuffle=True,num_workers=0, batch_size=BATCH_SIZE,collate_fn=lambda x: collate_fn(x, NUM_NEGATIVES, max(df['node_index'].values)))\n",
    "\n",
    "    set_seed(seed=RANDOM_STATE) # фиксируем сид (иначе не будет воспроизводимости)\n",
    "    model = LatentFactorModel(EDIM, user_indes, node_indes)\n",
    "    optimizer = torch.optim.Adam(model.parameters(), LR)\n",
    "\n",
    "    for i in range(EPOCH):\n",
    "        losses = []\n",
    "        for i in dataloader:\n",
    "            users, items, labels = i\n",
    "            optimizer.zero_grad()\n",
    "            logits = model(users, items)\n",
    "            loss = torch.nn.functional.binary_cross_entropy_with_logits(\n",
    "                logits, labels\n",
    "            )\n",
    "            loss.backward()\n",
    "            optimizer.step()\n",
    "            losses.append(loss.item())\n",
    "\n",
    "    hitrate, prec = get_metrics(model, K=30)\n",
    "\n",
    "    path_to_save = f'model_weights_{trial.number}.pt'\n",
    "    torch.save(model.state_dict(), path_to_save)\n",
    "    # логруем результат в mlflow\n",
    "    with mlflow.start_run(run_name=f'optuna-{trial.number}'):\n",
    "        mlflow.log_metrics(\n",
    "            {\n",
    "                'hitrate-at-30': hitrate, \n",
    "                'precision-at-30': prec\n",
    "            },\n",
    "        )\n",
    "        mlflow.log_params(\n",
    "            {\n",
    "            'BATCH_SIZE': BATCH_SIZE,\n",
    "            'NUM_NEGATIVES': NUM_NEGATIVES,\n",
    "            'EDIM': EDIM,\n",
    "            'EPOCH': EPOCH,\n",
    "            'OPTIMIZER_NAME': OPTIMIZER_NAME,\n",
    "            'LR': EPOCH,\n",
    "            }\n",
    "        )\n",
    "        # mlflow.log_artifact( # не работает с большими файлами\n",
    "        #     path_to_save,\n",
    "        #     'models'\n",
    "        # )\n",
    "    return prec # будем максимизировать precision"
   ]
  },
  {
   "cell_type": "code",
   "execution_count": 15,
   "id": "e4702560",
   "metadata": {},
   "outputs": [
    {
     "name": "stderr",
     "output_type": "stream",
     "text": [
      "[I 2024-05-25 13:09:15,592] A new study created in memory with name: no-name-14bfadf9-c4e3-42dd-8773-940b068e9590\n"
     ]
    },
    {
     "name": "stdout",
     "output_type": "stream",
     "text": [
      "Random seed set as 1\n"
     ]
    },
    {
     "name": "stderr",
     "output_type": "stream",
     "text": [
      "[I 2024-05-25 13:09:35,629] Trial 0 finished with value: 0.0013493253373313345 and parameters: {'BATCH_SIZE': 41711, 'NUM_NEGATIVES': 15, 'EDIM': 16, 'EPOCH': 8, 'LR': 0.00386387940515873}. Best is trial 0 with value: 0.0013493253373313345.\n"
     ]
    },
    {
     "name": "stdout",
     "output_type": "stream",
     "text": [
      "Random seed set as 1\n"
     ]
    },
    {
     "name": "stderr",
     "output_type": "stream",
     "text": [
      "[I 2024-05-25 13:09:54,450] Trial 1 finished with value: 0.04497751124437781 and parameters: {'BATCH_SIZE': 9248, 'NUM_NEGATIVES': 4, 'EDIM': 187, 'EPOCH': 10, 'LR': 0.14297724879798399}. Best is trial 1 with value: 0.04497751124437781.\n"
     ]
    },
    {
     "name": "stdout",
     "output_type": "stream",
     "text": [
      "Random seed set as 1\n"
     ]
    },
    {
     "name": "stderr",
     "output_type": "stream",
     "text": [
      "[I 2024-05-25 13:10:43,855] Trial 2 finished with value: 0.0016491754122938533 and parameters: {'BATCH_SIZE': 41929, 'NUM_NEGATIVES': 14, 'EDIM': 117, 'EPOCH': 18, 'LR': 0.0012869165107815027}. Best is trial 1 with value: 0.04497751124437781.\n"
     ]
    },
    {
     "name": "stdout",
     "output_type": "stream",
     "text": [
      "Random seed set as 1\n"
     ]
    },
    {
     "name": "stderr",
     "output_type": "stream",
     "text": [
      "[I 2024-05-25 13:10:59,860] Trial 3 finished with value: 0.0009995002498750627 and parameters: {'BATCH_SIZE': 67052, 'NUM_NEGATIVES': 9, 'EDIM': 293, 'EPOCH': 5, 'LR': 0.006200203677164719}. Best is trial 1 with value: 0.04497751124437781.\n"
     ]
    },
    {
     "name": "stdout",
     "output_type": "stream",
     "text": [
      "Random seed set as 1\n"
     ]
    },
    {
     "name": "stderr",
     "output_type": "stream",
     "text": [
      "[I 2024-05-25 13:11:53,559] Trial 4 finished with value: 0.045327336331834084 and parameters: {'BATCH_SIZE': 80078, 'NUM_NEGATIVES': 20, 'EDIM': 171, 'EPOCH': 15, 'LR': 3.2029975700290483}. Best is trial 4 with value: 0.045327336331834084.\n"
     ]
    },
    {
     "name": "stdout",
     "output_type": "stream",
     "text": [
      "Random seed set as 1\n"
     ]
    },
    {
     "name": "stderr",
     "output_type": "stream",
     "text": [
      "[I 2024-05-25 13:12:00,617] Trial 5 finished with value: 0.021139430284857572 and parameters: {'BATCH_SIZE': 89463, 'NUM_NEGATIVES': 2, 'EDIM': 35, 'EPOCH': 6, 'LR': 3.25514256249193}. Best is trial 4 with value: 0.045327336331834084.\n"
     ]
    },
    {
     "name": "stdout",
     "output_type": "stream",
     "text": [
      "Random seed set as 1\n"
     ]
    },
    {
     "name": "stderr",
     "output_type": "stream",
     "text": [
      "[I 2024-05-25 13:12:38,439] Trial 6 finished with value: 0.0432783608195902 and parameters: {'BATCH_SIZE': 9849, 'NUM_NEGATIVES': 9, 'EDIM': 492, 'EPOCH': 12, 'LR': 0.5854751355295726}. Best is trial 4 with value: 0.045327336331834084.\n"
     ]
    },
    {
     "name": "stdout",
     "output_type": "stream",
     "text": [
      "Random seed set as 1\n"
     ]
    },
    {
     "name": "stderr",
     "output_type": "stream",
     "text": [
      "[I 2024-05-25 13:12:49,965] Trial 7 finished with value: 0.04192903548225887 and parameters: {'BATCH_SIZE': 31562, 'NUM_NEGATIVES': 14, 'EDIM': 430, 'EPOCH': 3, 'LR': 1.0013300735281483}. Best is trial 4 with value: 0.045327336331834084.\n"
     ]
    },
    {
     "name": "stdout",
     "output_type": "stream",
     "text": [
      "Random seed set as 1\n"
     ]
    },
    {
     "name": "stderr",
     "output_type": "stream",
     "text": [
      "[I 2024-05-25 13:13:39,420] Trial 8 finished with value: 0.0013993003498250875 and parameters: {'BATCH_SIZE': 98887, 'NUM_NEGATIVES': 15, 'EDIM': 155, 'EPOCH': 17, 'LR': 0.0025876410154210506}. Best is trial 4 with value: 0.045327336331834084.\n"
     ]
    },
    {
     "name": "stdout",
     "output_type": "stream",
     "text": [
      "Random seed set as 1\n"
     ]
    },
    {
     "name": "stderr",
     "output_type": "stream",
     "text": [
      "[I 2024-05-25 13:14:05,945] Trial 9 finished with value: 0.0012493753123438284 and parameters: {'BATCH_SIZE': 44798, 'NUM_NEGATIVES': 19, 'EDIM': 161, 'EPOCH': 8, 'LR': 0.0033121827306255114}. Best is trial 4 with value: 0.045327336331834084.\n"
     ]
    },
    {
     "name": "stdout",
     "output_type": "stream",
     "text": [
      "Random seed set as 1\n"
     ]
    },
    {
     "name": "stderr",
     "output_type": "stream",
     "text": [
      "[I 2024-05-25 13:15:09,403] Trial 10 finished with value: 0.04592703648175912 and parameters: {'BATCH_SIZE': 74054, 'NUM_NEGATIVES': 20, 'EDIM': 322, 'EPOCH': 14, 'LR': 5.979525255233269}. Best is trial 10 with value: 0.04592703648175912.\n"
     ]
    },
    {
     "name": "stdout",
     "output_type": "stream",
     "text": [
      "Random seed set as 1\n"
     ]
    },
    {
     "name": "stderr",
     "output_type": "stream",
     "text": [
      "[I 2024-05-25 13:16:07,652] Trial 11 finished with value: 0.046776611694152925 and parameters: {'BATCH_SIZE': 70806, 'NUM_NEGATIVES': 19, 'EDIM': 313, 'EPOCH': 14, 'LR': 9.407916196919608}. Best is trial 11 with value: 0.046776611694152925.\n"
     ]
    },
    {
     "name": "stdout",
     "output_type": "stream",
     "text": [
      "Random seed set as 1\n"
     ]
    },
    {
     "name": "stderr",
     "output_type": "stream",
     "text": [
      "[I 2024-05-25 13:17:04,033] Trial 12 finished with value: 0.047426286856571714 and parameters: {'BATCH_SIZE': 68114, 'NUM_NEGATIVES': 18, 'EDIM': 329, 'EPOCH': 14, 'LR': 5.106820625932442}. Best is trial 12 with value: 0.047426286856571714.\n"
     ]
    },
    {
     "name": "stdout",
     "output_type": "stream",
     "text": [
      "Random seed set as 1\n"
     ]
    },
    {
     "name": "stderr",
     "output_type": "stream",
     "text": [
      "[I 2024-05-25 13:18:23,850] Trial 13 finished with value: 0.04222888555722139 and parameters: {'BATCH_SIZE': 64563, 'NUM_NEGATIVES': 17, 'EDIM': 358, 'EPOCH': 20, 'LR': 0.03486808367826234}. Best is trial 12 with value: 0.047426286856571714.\n"
     ]
    },
    {
     "name": "stdout",
     "output_type": "stream",
     "text": [
      "Random seed set as 1\n"
     ]
    },
    {
     "name": "stderr",
     "output_type": "stream",
     "text": [
      "[I 2024-05-25 13:19:18,568] Trial 14 finished with value: 0.045077461269365314 and parameters: {'BATCH_SIZE': 56879, 'NUM_NEGATIVES': 18, 'EDIM': 385, 'EPOCH': 13, 'LR': 0.9149530799982564}. Best is trial 12 with value: 0.047426286856571714.\n"
     ]
    },
    {
     "name": "stdout",
     "output_type": "stream",
     "text": [
      "Random seed set as 1\n"
     ]
    },
    {
     "name": "stderr",
     "output_type": "stream",
     "text": [
      "[I 2024-05-25 13:20:02,905] Trial 15 finished with value: 0.04482758620689655 and parameters: {'BATCH_SIZE': 81938, 'NUM_NEGATIVES': 11, 'EDIM': 245, 'EPOCH': 16, 'LR': 8.874165906134635}. Best is trial 12 with value: 0.047426286856571714.\n"
     ]
    },
    {
     "name": "stdout",
     "output_type": "stream",
     "text": [
      "Random seed set as 1\n"
     ]
    },
    {
     "name": "stderr",
     "output_type": "stream",
     "text": [
      "[I 2024-05-25 13:20:32,267] Trial 16 finished with value: 0.04517741129435282 and parameters: {'BATCH_SIZE': 56407, 'NUM_NEGATIVES': 12, 'EDIM': 244, 'EPOCH': 10, 'LR': 0.179926136110671}. Best is trial 12 with value: 0.047426286856571714.\n"
     ]
    },
    {
     "name": "stdout",
     "output_type": "stream",
     "text": [
      "Random seed set as 1\n"
     ]
    },
    {
     "name": "stderr",
     "output_type": "stream",
     "text": [
      "[I 2024-05-25 13:21:49,644] Trial 17 finished with value: 0.03938030984507746 and parameters: {'BATCH_SIZE': 24126, 'NUM_NEGATIVES': 17, 'EDIM': 413, 'EPOCH': 19, 'LR': 0.0286710413690837}. Best is trial 12 with value: 0.047426286856571714.\n"
     ]
    },
    {
     "name": "stdout",
     "output_type": "stream",
     "text": [
      "Random seed set as 1\n"
     ]
    },
    {
     "name": "stderr",
     "output_type": "stream",
     "text": [
      "[I 2024-05-25 13:23:39,256] Trial 18 finished with value: 0.033233383308345826 and parameters: {'BATCH_SIZE': 96401, 'NUM_NEGATIVES': 17, 'EDIM': 470, 'EPOCH': 11, 'LR': 2.3384535382064855}. Best is trial 12 with value: 0.047426286856571714.\n"
     ]
    },
    {
     "name": "stdout",
     "output_type": "stream",
     "text": [
      "Random seed set as 1\n"
     ]
    },
    {
     "name": "stderr",
     "output_type": "stream",
     "text": [
      "[I 2024-05-25 13:24:14,550] Trial 19 finished with value: 0.04272863568215892 and parameters: {'BATCH_SIZE': 70099, 'NUM_NEGATIVES': 6, 'EDIM': 330, 'EPOCH': 15, 'LR': 0.43283619051234784}. Best is trial 12 with value: 0.047426286856571714.\n"
     ]
    },
    {
     "name": "stdout",
     "output_type": "stream",
     "text": [
      "Random seed set as 1\n"
     ]
    },
    {
     "name": "stderr",
     "output_type": "stream",
     "text": [
      "[I 2024-05-25 13:24:54,571] Trial 20 finished with value: 0.04582708645677162 and parameters: {'BATCH_SIZE': 85044, 'NUM_NEGATIVES': 13, 'EDIM': 272, 'EPOCH': 13, 'LR': 9.316645166969703}. Best is trial 12 with value: 0.047426286856571714.\n"
     ]
    },
    {
     "name": "stdout",
     "output_type": "stream",
     "text": [
      "Random seed set as 1\n"
     ]
    },
    {
     "name": "stderr",
     "output_type": "stream",
     "text": [
      "[I 2024-05-25 13:25:58,508] Trial 21 finished with value: 0.046576711644177905 and parameters: {'BATCH_SIZE': 69689, 'NUM_NEGATIVES': 20, 'EDIM': 321, 'EPOCH': 15, 'LR': 4.9351826460258525}. Best is trial 12 with value: 0.047426286856571714.\n"
     ]
    },
    {
     "name": "stdout",
     "output_type": "stream",
     "text": [
      "Random seed set as 1\n"
     ]
    },
    {
     "name": "stderr",
     "output_type": "stream",
     "text": [
      "[I 2024-05-25 13:27:11,319] Trial 22 finished with value: 0.045627186406796603 and parameters: {'BATCH_SIZE': 58162, 'NUM_NEGATIVES': 20, 'EDIM': 353, 'EPOCH': 17, 'LR': 1.6122026059723826}. Best is trial 12 with value: 0.047426286856571714.\n"
     ]
    },
    {
     "name": "stdout",
     "output_type": "stream",
     "text": [
      "Random seed set as 1\n"
     ]
    },
    {
     "name": "stderr",
     "output_type": "stream",
     "text": [
      "[I 2024-05-25 13:27:56,715] Trial 23 finished with value: 0.045627186406796603 and parameters: {'BATCH_SIZE': 75641, 'NUM_NEGATIVES': 16, 'EDIM': 219, 'EPOCH': 14, 'LR': 4.707247503337901}. Best is trial 12 with value: 0.047426286856571714.\n"
     ]
    },
    {
     "name": "stdout",
     "output_type": "stream",
     "text": [
      "Random seed set as 1\n"
     ]
    },
    {
     "name": "stderr",
     "output_type": "stream",
     "text": [
      "[I 2024-05-25 13:28:56,329] Trial 24 finished with value: 0.043778110944527736 and parameters: {'BATCH_SIZE': 62314, 'NUM_NEGATIVES': 18, 'EDIM': 292, 'EPOCH': 16, 'LR': 0.3605152937009567}. Best is trial 12 with value: 0.047426286856571714.\n"
     ]
    },
    {
     "name": "stdout",
     "output_type": "stream",
     "text": [
      "Random seed set as 1\n"
     ]
    },
    {
     "name": "stderr",
     "output_type": "stream",
     "text": [
      "[I 2024-05-25 13:29:49,394] Trial 25 finished with value: 0.04592703648175912 and parameters: {'BATCH_SIZE': 52047, 'NUM_NEGATIVES': 19, 'EDIM': 390, 'EPOCH': 12, 'LR': 1.8557138853476258}. Best is trial 12 with value: 0.047426286856571714.\n"
     ]
    },
    {
     "name": "stdout",
     "output_type": "stream",
     "text": [
      "Random seed set as 1\n"
     ]
    },
    {
     "name": "stderr",
     "output_type": "stream",
     "text": [
      "[I 2024-05-25 13:31:29,113] Trial 26 finished with value: 0.04552723638180909 and parameters: {'BATCH_SIZE': 90465, 'NUM_NEGATIVES': 18, 'EDIM': 435, 'EPOCH': 14, 'LR': 4.288163771919351}. Best is trial 12 with value: 0.047426286856571714.\n"
     ]
    },
    {
     "name": "stdout",
     "output_type": "stream",
     "text": [
      "Random seed set as 1\n"
     ]
    },
    {
     "name": "stderr",
     "output_type": "stream",
     "text": [
      "[I 2024-05-25 13:32:33,081] Trial 27 finished with value: 0.04667666166916542 and parameters: {'BATCH_SIZE': 72632, 'NUM_NEGATIVES': 16, 'EDIM': 314, 'EPOCH': 18, 'LR': 9.678289030709719}. Best is trial 12 with value: 0.047426286856571714.\n"
     ]
    },
    {
     "name": "stdout",
     "output_type": "stream",
     "text": [
      "Random seed set as 1\n"
     ]
    },
    {
     "name": "stderr",
     "output_type": "stream",
     "text": [
      "[I 2024-05-25 13:33:37,969] Trial 28 finished with value: 0.044427786106946525 and parameters: {'BATCH_SIZE': 78947, 'NUM_NEGATIVES': 16, 'EDIM': 216, 'EPOCH': 20, 'LR': 0.05814185680710665}. Best is trial 12 with value: 0.047426286856571714.\n"
     ]
    },
    {
     "name": "stdout",
     "output_type": "stream",
     "text": [
      "Random seed set as 1\n"
     ]
    },
    {
     "name": "stderr",
     "output_type": "stream",
     "text": [
      "[I 2024-05-25 13:34:39,377] Trial 29 finished with value: 0.044077961019490255 and parameters: {'BATCH_SIZE': 33790, 'NUM_NEGATIVES': 15, 'EDIM': 366, 'EPOCH': 17, 'LR': 9.539727964639411}. Best is trial 12 with value: 0.047426286856571714.\n"
     ]
    },
    {
     "name": "stdout",
     "output_type": "stream",
     "text": [
      "Random seed set as 1\n"
     ]
    },
    {
     "name": "stderr",
     "output_type": "stream",
     "text": [
      "[I 2024-05-25 13:35:28,203] Trial 30 finished with value: 0.003548225887056472 and parameters: {'BATCH_SIZE': 48448, 'NUM_NEGATIVES': 9, 'EDIM': 297, 'EPOCH': 18, 'LR': 0.011192463765709868}. Best is trial 12 with value: 0.047426286856571714.\n"
     ]
    },
    {
     "name": "stdout",
     "output_type": "stream",
     "text": [
      "Random seed set as 1\n"
     ]
    },
    {
     "name": "stderr",
     "output_type": "stream",
     "text": [
      "[I 2024-05-25 13:36:32,032] Trial 31 finished with value: 0.04602698650674662 and parameters: {'BATCH_SIZE': 70406, 'NUM_NEGATIVES': 19, 'EDIM': 326, 'EPOCH': 15, 'LR': 1.2517249290246275}. Best is trial 12 with value: 0.047426286856571714.\n"
     ]
    },
    {
     "name": "stdout",
     "output_type": "stream",
     "text": [
      "Random seed set as 1\n"
     ]
    },
    {
     "name": "stderr",
     "output_type": "stream",
     "text": [
      "[I 2024-05-25 13:37:06,514] Trial 32 finished with value: 0.04582708645677162 and parameters: {'BATCH_SIZE': 62957, 'NUM_NEGATIVES': 16, 'EDIM': 272, 'EPOCH': 10, 'LR': 5.284830602857131}. Best is trial 12 with value: 0.047426286856571714.\n"
     ]
    },
    {
     "name": "stdout",
     "output_type": "stream",
     "text": [
      "Random seed set as 1\n"
     ]
    },
    {
     "name": "stderr",
     "output_type": "stream",
     "text": [
      "[I 2024-05-25 13:38:25,553] Trial 33 finished with value: 0.04542728635682158 and parameters: {'BATCH_SIZE': 72370, 'NUM_NEGATIVES': 20, 'EDIM': 325, 'EPOCH': 18, 'LR': 2.757595234245188}. Best is trial 12 with value: 0.047426286856571714.\n"
     ]
    },
    {
     "name": "stdout",
     "output_type": "stream",
     "text": [
      "Random seed set as 1\n"
     ]
    },
    {
     "name": "stderr",
     "output_type": "stream",
     "text": [
      "[I 2024-05-25 13:39:31,011] Trial 34 finished with value: 0.04577711144427786 and parameters: {'BATCH_SIZE': 87053, 'NUM_NEGATIVES': 18, 'EDIM': 302, 'EPOCH': 16, 'LR': 6.189794654364056}. Best is trial 12 with value: 0.047426286856571714.\n"
     ]
    },
    {
     "name": "stdout",
     "output_type": "stream",
     "text": [
      "Random seed set as 1\n"
     ]
    },
    {
     "name": "stderr",
     "output_type": "stream",
     "text": [
      "[I 2024-05-25 13:40:14,033] Trial 35 finished with value: 0.044477761119440275 and parameters: {'BATCH_SIZE': 66395, 'NUM_NEGATIVES': 6, 'EDIM': 252, 'EPOCH': 19, 'LR': 2.7790446271322446}. Best is trial 12 with value: 0.047426286856571714.\n"
     ]
    },
    {
     "name": "stdout",
     "output_type": "stream",
     "text": [
      "Random seed set as 1\n"
     ]
    },
    {
     "name": "stderr",
     "output_type": "stream",
     "text": [
      "[I 2024-05-25 13:40:54,484] Trial 36 finished with value: 0.04557721139430285 and parameters: {'BATCH_SIZE': 77397, 'NUM_NEGATIVES': 15, 'EDIM': 207, 'EPOCH': 13, 'LR': 0.7337649042323618}. Best is trial 12 with value: 0.047426286856571714.\n"
     ]
    },
    {
     "name": "stdout",
     "output_type": "stream",
     "text": [
      "Random seed set as 1\n"
     ]
    },
    {
     "name": "stderr",
     "output_type": "stream",
     "text": [
      "[I 2024-05-25 13:41:23,048] Trial 37 finished with value: 0.04032983508245877 and parameters: {'BATCH_SIZE': 54086, 'NUM_NEGATIVES': 13, 'EDIM': 74, 'EPOCH': 11, 'LR': 0.17190704265715}. Best is trial 12 with value: 0.047426286856571714.\n"
     ]
    },
    {
     "name": "stdout",
     "output_type": "stream",
     "text": [
      "Random seed set as 1\n"
     ]
    },
    {
     "name": "stderr",
     "output_type": "stream",
     "text": [
      "[I 2024-05-25 13:43:09,539] Trial 38 finished with value: 0.0456271864067966 and parameters: {'BATCH_SIZE': 91247, 'NUM_NEGATIVES': 19, 'EDIM': 387, 'EPOCH': 15, 'LR': 1.7344355452600275}. Best is trial 12 with value: 0.047426286856571714.\n"
     ]
    },
    {
     "name": "stdout",
     "output_type": "stream",
     "text": [
      "Random seed set as 1\n"
     ]
    },
    {
     "name": "stderr",
     "output_type": "stream",
     "text": [
      "[I 2024-05-25 13:43:38,665] Trial 39 finished with value: 0.04472763618190904 and parameters: {'BATCH_SIZE': 68021, 'NUM_NEGATIVES': 14, 'EDIM': 349, 'EPOCH': 8, 'LR': 3.7202976994104695}. Best is trial 12 with value: 0.047426286856571714.\n"
     ]
    },
    {
     "name": "stdout",
     "output_type": "stream",
     "text": [
      "Random seed set as 1\n"
     ]
    },
    {
     "name": "stderr",
     "output_type": "stream",
     "text": [
      "[I 2024-05-25 13:44:52,470] Trial 40 finished with value: 0.0415792103948026 and parameters: {'BATCH_SIZE': 2778, 'NUM_NEGATIVES': 17, 'EDIM': 453, 'EPOCH': 16, 'LR': 0.2793915989030075}. Best is trial 12 with value: 0.047426286856571714.\n"
     ]
    },
    {
     "name": "stdout",
     "output_type": "stream",
     "text": [
      "Random seed set as 1\n"
     ]
    },
    {
     "name": "stderr",
     "output_type": "stream",
     "text": [
      "[I 2024-05-25 13:46:01,373] Trial 41 finished with value: 0.04602698650674662 and parameters: {'BATCH_SIZE': 71373, 'NUM_NEGATIVES': 19, 'EDIM': 327, 'EPOCH': 15, 'LR': 1.1925925780191788}. Best is trial 12 with value: 0.047426286856571714.\n"
     ]
    },
    {
     "name": "stdout",
     "output_type": "stream",
     "text": [
      "Random seed set as 1\n"
     ]
    },
    {
     "name": "stderr",
     "output_type": "stream",
     "text": [
      "[I 2024-05-25 13:47:01,255] Trial 42 finished with value: 0.045877061469265366 and parameters: {'BATCH_SIZE': 60176, 'NUM_NEGATIVES': 20, 'EDIM': 305, 'EPOCH': 14, 'LR': 7.014730182620286}. Best is trial 12 with value: 0.047426286856571714.\n"
     ]
    },
    {
     "name": "stdout",
     "output_type": "stream",
     "text": [
      "Random seed set as 1\n"
     ]
    },
    {
     "name": "stderr",
     "output_type": "stream",
     "text": [
      "[I 2024-05-25 13:47:54,467] Trial 43 finished with value: 0.04632683658170914 and parameters: {'BATCH_SIZE': 82542, 'NUM_NEGATIVES': 19, 'EDIM': 270, 'EPOCH': 13, 'LR': 4.058105551966542}. Best is trial 12 with value: 0.047426286856571714.\n"
     ]
    },
    {
     "name": "stdout",
     "output_type": "stream",
     "text": [
      "Random seed set as 1\n"
     ]
    },
    {
     "name": "stderr",
     "output_type": "stream",
     "text": [
      "[I 2024-05-25 13:48:14,142] Trial 44 finished with value: 0.03853073463268366 and parameters: {'BATCH_SIZE': 82469, 'NUM_NEGATIVES': 1, 'EDIM': 278, 'EPOCH': 12, 'LR': 3.970050788868201}. Best is trial 12 with value: 0.047426286856571714.\n"
     ]
    },
    {
     "name": "stdout",
     "output_type": "stream",
     "text": [
      "Random seed set as 1\n"
     ]
    },
    {
     "name": "stderr",
     "output_type": "stream",
     "text": [
      "[I 2024-05-25 13:48:58,614] Trial 45 finished with value: 0.044977511244377814 and parameters: {'BATCH_SIZE': 77244, 'NUM_NEGATIVES': 18, 'EDIM': 186, 'EPOCH': 13, 'LR': 6.363634479740375}. Best is trial 12 with value: 0.047426286856571714.\n"
     ]
    },
    {
     "name": "stdout",
     "output_type": "stream",
     "text": [
      "Random seed set as 1\n"
     ]
    },
    {
     "name": "stderr",
     "output_type": "stream",
     "text": [
      "[I 2024-05-25 13:49:48,711] Trial 46 finished with value: 0.03933033483258371 and parameters: {'BATCH_SIZE': 95195, 'NUM_NEGATIVES': 20, 'EDIM': 229, 'EPOCH': 12, 'LR': 9.310713900749981}. Best is trial 12 with value: 0.047426286856571714.\n"
     ]
    },
    {
     "name": "stdout",
     "output_type": "stream",
     "text": [
      "Random seed set as 1\n"
     ]
    },
    {
     "name": "stderr",
     "output_type": "stream",
     "text": [
      "[I 2024-05-25 13:50:18,312] Trial 47 finished with value: 0.041929035482258875 and parameters: {'BATCH_SIZE': 83062, 'NUM_NEGATIVES': 17, 'EDIM': 139, 'EPOCH': 9, 'LR': 2.432144064183068}. Best is trial 12 with value: 0.047426286856571714.\n"
     ]
    },
    {
     "name": "stdout",
     "output_type": "stream",
     "text": [
      "Random seed set as 1\n"
     ]
    },
    {
     "name": "stderr",
     "output_type": "stream",
     "text": [
      "[I 2024-05-25 13:50:42,542] Trial 48 finished with value: 0.03633183408295852 and parameters: {'BATCH_SIZE': 47837, 'NUM_NEGATIVES': 19, 'EDIM': 370, 'EPOCH': 5, 'LR': 3.6899910487430927}. Best is trial 12 with value: 0.047426286856571714.\n"
     ]
    },
    {
     "name": "stdout",
     "output_type": "stream",
     "text": [
      "Random seed set as 1\n"
     ]
    },
    {
     "name": "stderr",
     "output_type": "stream",
     "text": [
      "[I 2024-05-25 13:52:06,529] Trial 49 finished with value: 0.04557721139430285 and parameters: {'BATCH_SIZE': 65858, 'NUM_NEGATIVES': 18, 'EDIM': 406, 'EPOCH': 17, 'LR': 6.374981357852146}. Best is trial 12 with value: 0.047426286856571714.\n"
     ]
    }
   ],
   "source": [
    "# запускаем оптуну\n",
    "tpe_sampler = optuna.samplers.TPESampler(seed=RANDOM_STATE)\n",
    "study = optuna.create_study(sampler=tpe_sampler, direction='maximize')\n",
    "study.optimize(objective, n_trials=50)"
   ]
  },
  {
   "cell_type": "code",
   "execution_count": 16,
   "id": "0d6d2150",
   "metadata": {},
   "outputs": [
    {
     "data": {
      "text/plain": [
       "{'BATCH_SIZE': 68114,\n",
       " 'NUM_NEGATIVES': 18,\n",
       " 'EDIM': 329,\n",
       " 'EPOCH': 14,\n",
       " 'LR': 5.106820625932442}"
      ]
     },
     "execution_count": 16,
     "metadata": {},
     "output_type": "execute_result"
    }
   ],
   "source": [
    "optuna_best_params = study.best_params\n",
    "optuna_best_params"
   ]
  },
  {
   "cell_type": "markdown",
   "id": "9c8aae47",
   "metadata": {},
   "source": [
    "# 2. Перебираем оптимизаторы"
   ]
  },
  {
   "cell_type": "code",
   "execution_count": 17,
   "id": "6499205a",
   "metadata": {},
   "outputs": [],
   "source": [
    "def fit_model(name_trial: str, config: dict):\n",
    "    BATCH_SIZE = config['BATCH_SIZE']\n",
    "    NUM_NEGATIVES = config['NUM_NEGATIVES']\n",
    "    EDIM = config['EDIM']\n",
    "    EPOCH = config['EPOCH']\n",
    "    OPTIMIZER_NAME = config['optimizer'].__name__\n",
    "    LR = config['LR']\n",
    "\n",
    "    train_dataset = RecDataset(df_train['user_index'].values, df_train['node_index'], user2seen)\n",
    "    dataloader = DataLoader(train_dataset, shuffle=True,num_workers=0, batch_size=BATCH_SIZE,collate_fn=lambda x: collate_fn(x, NUM_NEGATIVES, max(df['node_index'].values)))\n",
    "\n",
    "    set_seed(seed=RANDOM_STATE) # фиксируем сид (иначе не будет воспроизводимости)\n",
    "    model = LatentFactorModel(EDIM, user_indes, node_indes)\n",
    "    optimizer = config['optimizer'](model.parameters(), LR)\n",
    "\n",
    "    for i in range(EPOCH):\n",
    "        losses = []\n",
    "        for i in dataloader:\n",
    "            users, items, labels = i\n",
    "            optimizer.zero_grad()\n",
    "            logits = model(users, items)\n",
    "            loss = torch.nn.functional.binary_cross_entropy_with_logits(\n",
    "                logits, labels\n",
    "            )\n",
    "            loss.backward()\n",
    "            optimizer.step()\n",
    "            losses.append(loss.item())\n",
    "\n",
    "    hitrate, prec = get_metrics(model, K=30)\n",
    "\n",
    "    path_to_save = f'model_weights_{name_trial}.pt'\n",
    "    torch.save(model.state_dict(), path_to_save)\n",
    "    # логруем результат в mlflow\n",
    "    with mlflow.start_run(run_name=name_trial):\n",
    "        mlflow.log_metrics(\n",
    "            {\n",
    "                'hitrate-at-30': hitrate, \n",
    "                'precision-at-30': prec\n",
    "            },\n",
    "        )\n",
    "        mlflow.log_params(\n",
    "            {\n",
    "            'BATCH_SIZE': BATCH_SIZE,\n",
    "            'NUM_NEGATIVES': NUM_NEGATIVES,\n",
    "            'EDIM': EDIM,\n",
    "            'EPOCH': EPOCH,\n",
    "            'OPTIMIZER_NAME': OPTIMIZER_NAME,\n",
    "            'LR': EPOCH,\n",
    "            }\n",
    "        )\n",
    "        # mlflow.log_artifact( # не работает с большими файлами\n",
    "        #     path_to_save,\n",
    "        #     'models'\n",
    "        # )\n",
    "    return hitrate, prec"
   ]
  },
  {
   "cell_type": "code",
   "execution_count": 18,
   "id": "392f3051",
   "metadata": {},
   "outputs": [
    {
     "name": "stdout",
     "output_type": "stream",
     "text": [
      "Random seed set as 1\n",
      "AdamW:\n",
      "\thitrate: 0.7301349325337332\n",
      "\tprecision: 0.04532733633183408\n",
      "\n",
      "Random seed set as 1\n",
      "Adagrad:\n",
      "\thitrate: 0.7226386806596702\n",
      "\tprecision: 0.04532733633183408\n",
      "\n",
      "Random seed set as 1\n",
      "RMSprop:\n",
      "\thitrate: 0.7346326836581709\n",
      "\tprecision: 0.04672663668165917\n",
      "\n",
      "Random seed set as 1\n",
      "SGD:\n",
      "\thitrate: 0.037481259370314844\n",
      "\tprecision: 0.0012493753123438282\n",
      "\n",
      "Random seed set as 1\n",
      "ASGD:\n",
      "\thitrate: 0.037481259370314844\n",
      "\tprecision: 0.0012493753123438282\n",
      "\n"
     ]
    }
   ],
   "source": [
    "from torch.optim import AdamW, Adagrad, RMSprop, SGD, ASGD\n",
    "\n",
    "# Adam уже есть\n",
    "for optimizer in [AdamW, Adagrad, RMSprop, SGD, ASGD]:\n",
    "    hitrate, prec = fit_model(\n",
    "        name_trial=f'optimizer: {optimizer.__name__}',\n",
    "        config={**optuna_best_params, 'optimizer': optimizer}\n",
    "    )\n",
    "    print(f'{optimizer.__name__}:\\n\\thitrate: {hitrate}\\n\\tprecision: {prec}', end='\\n\\n')"
   ]
  },
  {
   "cell_type": "markdown",
   "id": "d7373c11",
   "metadata": {},
   "source": [
    "# 3. Выбор лучшей модели"
   ]
  },
  {
   "cell_type": "markdown",
   "id": "cd7887f3",
   "metadata": {},
   "source": [
    "Среди всех моделей лучшей оказалась модель с 12 итерации оптуны с `precision@30: 0.0474`. Ещё раз соберем её"
   ]
  },
  {
   "cell_type": "code",
   "execution_count": 19,
   "id": "3049a75c",
   "metadata": {},
   "outputs": [
    {
     "name": "stdout",
     "output_type": "stream",
     "text": [
      "Random seed set as 1\n",
      "0.7421289355322339 0.047426286856571714\n"
     ]
    }
   ],
   "source": [
    "BATCH_SIZE = optuna_best_params['BATCH_SIZE']\n",
    "NUM_NEGATIVES = optuna_best_params['NUM_NEGATIVES']\n",
    "EDIM = optuna_best_params['EDIM']\n",
    "EPOCH = optuna_best_params['EPOCH']\n",
    "OPTIMIZER_NAME = 'Adam'\n",
    "LR = optuna_best_params['LR']\n",
    "\n",
    "train_dataset = RecDataset(df_train['user_index'].values, df_train['node_index'], user2seen)\n",
    "dataloader = DataLoader(train_dataset, shuffle=True,num_workers=0, batch_size=BATCH_SIZE,collate_fn=lambda x: collate_fn(x, NUM_NEGATIVES, max(df['node_index'].values)))\n",
    "\n",
    "set_seed(seed=RANDOM_STATE) # фиксируем сид (иначе не будет воспроизводимости)\n",
    "model = LatentFactorModel(EDIM, user_indes, node_indes)\n",
    "optimizer = torch.optim.Adam(model.parameters(), LR)\n",
    "\n",
    "for i in range(EPOCH):\n",
    "    losses = []\n",
    "    for i in dataloader:\n",
    "        users, items, labels = i\n",
    "        optimizer.zero_grad()\n",
    "        logits = model(users, items)\n",
    "        loss = torch.nn.functional.binary_cross_entropy_with_logits(\n",
    "            logits, labels\n",
    "        )\n",
    "        loss.backward()\n",
    "        optimizer.step()\n",
    "        losses.append(loss.item())\n",
    "\n",
    "hitrate, prec = get_metrics(model, K=30)\n",
    "\n",
    "print(hitrate, prec)"
   ]
  },
  {
   "cell_type": "code",
   "execution_count": 20,
   "id": "cc7b8cee",
   "metadata": {},
   "outputs": [],
   "source": [
    "# mlflow.log_artifact( # не работает с большими файлами\n",
    "#     '/Users/max/Desktop/aaa-versioning-hw/model_weights_12.pt'\n",
    "# )"
   ]
  },
  {
   "cell_type": "markdown",
   "id": "a2b1cac3",
   "metadata": {},
   "source": [
    "# 4. Пробуем другие модели"
   ]
  },
  {
   "cell_type": "markdown",
   "id": "8963ab03",
   "metadata": {},
   "source": [
    "## ALS"
   ]
  },
  {
   "cell_type": "code",
   "execution_count": 21,
   "id": "160a37cb",
   "metadata": {},
   "outputs": [
    {
     "name": "stderr",
     "output_type": "stream",
     "text": [
      "/var/folders/ds/gg0lwy_j1_lg7j7yvx6vcqx00000gn/T/ipykernel_9963/1797524773.py:11: DeprecationWarning: DataFrameGroupBy.apply operated on the grouping columns. This behavior is deprecated, and in a future version of pandas the grouping columns will be excluded from the operation. Either pass `include_groups=False` to exclude the groupings or explicitly select the grouping columns after groupby to silence this warning.\n",
      "  train_user_item_data_list = df.loc[df['is_train'], ['user_index', 'node_index']].groupby('user_index').apply(lambda x: matrix_string(x['node_index'])).tolist()\n"
     ]
    }
   ],
   "source": [
    "from scipy.sparse import csr_matrix\n",
    "\n",
    "N_NODES = df.loc[df['is_train'], 'node_index'].nunique()\n",
    "\n",
    "def matrix_string(list: list):\n",
    "    items_string = [0] * N_NODES\n",
    "    for item in list:\n",
    "        items_string[int(item)] = 1\n",
    "    return items_string\n",
    "\n",
    "train_user_item_data_list = df.loc[df['is_train'], ['user_index', 'node_index']].groupby('user_index').apply(lambda x: matrix_string(x['node_index'])).tolist()\n",
    "train_user_item_data = csr_matrix(train_user_item_data_list)"
   ]
  },
  {
   "cell_type": "code",
   "execution_count": 22,
   "id": "95164080",
   "metadata": {},
   "outputs": [],
   "source": [
    "def calc_hitrate(df_preds, K):\n",
    "    print(df_preds[df_preds['rank']<K].groupby('user_index')['relevant'])\n",
    "    return  df_preds[df_preds['rank']<K].groupby('user_index')['relevant'].max().mean()\n",
    "\n",
    "def calc_prec(df_preds, K):\n",
    "    return  (df_preds[df_preds['rank']<K].groupby('user_index')['relevant'].mean()).mean()"
   ]
  },
  {
   "cell_type": "code",
   "execution_count": 23,
   "id": "85a4affa",
   "metadata": {},
   "outputs": [
    {
     "name": "stderr",
     "output_type": "stream",
     "text": [
      "/opt/homebrew/Caskroom/miniconda/base/envs/base_env/lib/python3.11/site-packages/implicit/cpu/als.py:95: RuntimeWarning: OpenBLAS is configured to use 8 threads. It is highly recommended to disable its internal threadpool by setting the environment variable 'OPENBLAS_NUM_THREADS=1' or by calling 'threadpoolctl.threadpool_limits(1, \"blas\")'. Having OpenBLAS use a threadpool can lead to severe performance issues here.\n",
      "  check_blas_config()\n"
     ]
    },
    {
     "data": {
      "application/vnd.jupyter.widget-view+json": {
       "model_id": "fe5a67f97b774fdca4eceb34d59a1df6",
       "version_major": 2,
       "version_minor": 0
      },
      "text/plain": [
       "  0%|          | 0/20 [00:00<?, ?it/s]"
      ]
     },
     "metadata": {},
     "output_type": "display_data"
    },
    {
     "name": "stdout",
     "output_type": "stream",
     "text": [
      "<pandas.core.groupby.generic.SeriesGroupBy object at 0x2ac909c10>\n",
      "0.24587706146926536 0.009545227386306848\n"
     ]
    }
   ],
   "source": [
    "import implicit\n",
    "\n",
    "K = 30\n",
    "\n",
    "# initialize a model\n",
    "model = implicit.als.AlternatingLeastSquares(factors=16, iterations=20, num_threads=0, random_state=RANDOM_STATE)\n",
    "# train the model on a sparse matrix of user/item/confidence weights\n",
    "model.fit(train_user_item_data)\n",
    "\n",
    "test_users = df_test['user_index'].unique()\n",
    "\n",
    "preds = model.recommend(test_users, train_user_item_data[test_users].tocsr(), N=K)[0]\n",
    "df_preds = pd.DataFrame({'node_index': list(preds), 'user_index': test_users, 'rank': [[j for j in range(0, K)]for i in range(len(preds))]})\n",
    "\n",
    "df_preds = df_preds.explode(['node_index', 'rank']).merge(\n",
    "    df_test[['user_index', 'node_index']].assign(relevant=1).drop_duplicates(),\n",
    "    on = ['user_index', 'node_index'],\n",
    "    how='left'\n",
    ")\n",
    "df_preds['relevant'] = df_preds['relevant'].fillna(0)\n",
    "\n",
    "hitrate = calc_hitrate(df_preds, K)\n",
    "prec = calc_prec(df_preds, K)\n",
    "\n",
    "with mlflow.start_run(run_name='AlternatingLeastSquares'):\n",
    "    mlflow.log_metrics(\n",
    "        {\n",
    "            'hitrate-at-30': hitrate, \n",
    "            'precision-at-30': prec\n",
    "        },\n",
    "    )\n",
    "    mlflow.log_params(\n",
    "        {\n",
    "            'factors': model.factors,\n",
    "            'iterations': model.iterations,\n",
    "            'num_threads': model.num_threads,\n",
    "            'random_state': model.random_state\n",
    "        }\n",
    "    )\n",
    "\n",
    "print(hitrate, prec)"
   ]
  },
  {
   "cell_type": "markdown",
   "id": "461e83bf",
   "metadata": {},
   "source": [
    "## SASREC"
   ]
  },
  {
   "cell_type": "code",
   "execution_count": 24,
   "id": "21293209",
   "metadata": {},
   "outputs": [],
   "source": [
    "# по итогу не смог разобраться в доке библиотеки :pepe-clown:\n",
    "\n",
    "from recommenders.datasets.amazon_reviews import get_review_data\n",
    "from recommenders.datasets.split_utils import filter_k_core\n",
    "from recommenders.models.sasrec.model import SASREC\n",
    "from recommenders.models.sasrec.ssept import SSEPT\n",
    "from recommenders.models.sasrec.sampler import WarpSampler\n",
    "from recommenders.models.sasrec.util import SASRecDataSet\n",
    "from recommenders.utils.notebook_utils import store_metadata\n",
    "from recommenders.utils.timer import Timer"
   ]
  },
  {
   "cell_type": "code",
   "execution_count": 25,
   "id": "406aecee",
   "metadata": {},
   "outputs": [],
   "source": [
    "num_epochs = 5\n",
    "batch_size = 128\n",
    "seed = 100  # Set None for non-deterministic result\n",
    "\n",
    "lr = 0.001             # learning rate\n",
    "maxlen = 200            # maximum sequence length for each user\n",
    "num_blocks = 2         # number of transformer blocks\n",
    "hidden_units = 100     # number of units in the attention calculation\n",
    "num_heads = 1          # number of attention heads\n",
    "dropout_rate = 0.1     # dropout rate\n",
    "l2_emb = 0.0           # L2 regularization coefficient\n",
    "num_neg_test = 100     # number of negative examples per positive example"
   ]
  },
  {
   "cell_type": "code",
   "execution_count": 26,
   "id": "44f92728",
   "metadata": {},
   "outputs": [
    {
     "name": "stdout",
     "output_type": "stream",
     "text": [
      "True\n",
      "95084 1527 3333\n"
     ]
    }
   ],
   "source": [
    "df['is_train'] = df['event_date']< df['event_date'].max() - pd.Timedelta('2 day') # train тот же самый\n",
    "df['is_val'] = (df['event_date'] >= df['event_date'].max() - pd.Timedelta('3 day')) & df['is_train']\n",
    "df['is_train'] = df['is_train'] & ~df['is_val']\n",
    "df['is_test'] = (~df['is_train']) & (~df['is_val'])\n",
    "\n",
    "print(df['is_train'].sum() + df['is_val'].sum() + df['is_test'].sum() == df.shape[0])\n",
    "print(df['is_train'].sum(), df['is_val'].sum(), df['is_test'].sum())"
   ]
  },
  {
   "cell_type": "code",
   "execution_count": 27,
   "id": "d1d0840b",
   "metadata": {},
   "outputs": [],
   "source": [
    "user_items = dict(df.groupby('user_index')['node_index'].apply(list))\n",
    "\n",
    "train_user_items = dict(df[df['is_train']].groupby('user_index')['node_index'].apply(list))\n",
    "val_user_items = dict(df[df['is_val']].groupby('user_index')['node_index'].apply(list))\n",
    "test_user_items = dict(df[df['is_test']].groupby('user_index')['node_index'].apply(list))"
   ]
  },
  {
   "cell_type": "code",
   "execution_count": 28,
   "id": "87b9b8f8",
   "metadata": {},
   "outputs": [
    {
     "name": "stdout",
     "output_type": "stream",
     "text": [
      "1663 Users and 2175 items\n",
      "average sequence length: 58.28\n"
     ]
    }
   ],
   "source": [
    "# initiate a dataset class \n",
    "# train_data = SASRecDataSet(filename='./train_data.csv', col_sep=\"\\t\")\n",
    "train_data = SASRecDataSet(\n",
    "    filename='./full_data.csv',\n",
    "    col_sep='\\t',\n",
    "    usernum=df['user_index'].unique(),\n",
    "    itemnum=df['node_index'].unique(),\n",
    "    User=user_items,\n",
    "    Items=set(df['node_index']),\n",
    "    user_train=train_user_items,\n",
    "    user_valid=val_user_items,\n",
    "    user_test=test_user_items\n",
    ")\n",
    "\n",
    "# create train, validation and test splits\n",
    "train_data.split()\n",
    "\n",
    "# some statistics\n",
    "num_steps = int(len(train_data.user_train) / batch_size)\n",
    "cc = 0.0\n",
    "for u in train_data.user_train:\n",
    "    cc += len(train_data.user_train[u])\n",
    "print('%g Users and %g items' % (train_data.usernum, train_data.itemnum))\n",
    "print('average sequence length: %.2f' % (cc / len(train_data.user_train)))"
   ]
  },
  {
   "cell_type": "code",
   "execution_count": 29,
   "id": "b6948575",
   "metadata": {},
   "outputs": [],
   "source": [
    "sampler = WarpSampler(train_data.user_train, train_data.usernum, train_data.itemnum, batch_size=batch_size, maxlen=maxlen, n_workers=3)"
   ]
  },
  {
   "cell_type": "code",
   "execution_count": 30,
   "id": "e05e7503",
   "metadata": {},
   "outputs": [],
   "source": [
    "model = SASREC(item_num=train_data.itemnum,\n",
    "                seq_max_len=maxlen,\n",
    "                num_blocks=num_blocks,\n",
    "                embedding_dim=hidden_units,\n",
    "                attention_dim=hidden_units,\n",
    "                attention_num_heads=num_heads,\n",
    "                dropout_rate=dropout_rate,\n",
    "                conv_dims = [100, 100],\n",
    "                l2_reg=l2_emb,\n",
    "                num_neg_test=num_neg_test\n",
    ")"
   ]
  },
  {
   "cell_type": "code",
   "execution_count": 31,
   "id": "421692eb",
   "metadata": {},
   "outputs": [
    {
     "name": "stderr",
     "output_type": "stream",
     "text": [
      "WARNING:absl:At this time, the v2.11+ optimizer `tf.keras.optimizers.Adam` runs slowly on M1/M2 Macs, please use the legacy Keras optimizer instead, located at `tf.keras.optimizers.legacy.Adam`.\n",
      "                                                                      "
     ]
    },
    {
     "name": "stdout",
     "output_type": "stream",
     "text": [
      "\n",
      "epoch: 5, test (NDCG@30: 0.6178284833856107, HR@30: 0.9151515151515152)\n"
     ]
    },
    {
     "name": "stderr",
     "output_type": "stream",
     "text": [
      "\r"
     ]
    }
   ],
   "source": [
    "t_test = model.train(train_data, sampler, num_epochs=num_epochs, batch_size=batch_size, lr=lr, val_epoch=6)"
   ]
  },
  {
   "cell_type": "code",
   "execution_count": null,
   "id": "69087ce6",
   "metadata": {},
   "outputs": [],
   "source": []
  }
 ],
 "metadata": {
  "kernelspec": {
   "display_name": "Python 3 (ipykernel)",
   "language": "python",
   "name": "python3"
  },
  "language_info": {
   "codemirror_mode": {
    "name": "ipython",
    "version": 3
   },
   "file_extension": ".py",
   "mimetype": "text/x-python",
   "name": "python",
   "nbconvert_exporter": "python",
   "pygments_lexer": "ipython3",
   "version": "3.11.5"
  }
 },
 "nbformat": 4,
 "nbformat_minor": 5
}
